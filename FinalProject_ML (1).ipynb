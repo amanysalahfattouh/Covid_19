{
  "nbformat": 4,
  "nbformat_minor": 0,
  "metadata": {
    "colab": {
      "provenance": []
    },
    "kernelspec": {
      "name": "python3",
      "display_name": "Python 3"
    },
    "language_info": {
      "name": "python"
    }
  },
  "cells": [
    {
      "cell_type": "markdown",
      "source": [
        "# Name:- Amany Azzam\n",
        "\n",
        "# ID:- [20399133] "
      ],
      "metadata": {
        "id": "3ht6UHa-jWB8"
      }
    },
    {
      "cell_type": "code",
      "execution_count": null,
      "metadata": {
        "id": "rrfJJdAr2w-3"
      },
      "outputs": [],
      "source": [
        "#Import Libraries\n",
        "import numpy as np\n",
        "import pandas as pd\n",
        "import matplotlib as plt\n",
        "from sklearn.model_selection import train_test_split, GridSearchCV\n",
        "from sklearn.neighbors import KNeighborsClassifier\n",
        "from sklearn.preprocessing import StandardScaler\n",
        "import matplotlib.pyplot as plt\n",
        "from sklearn.metrics import roc_curve, auc, confusion_matrix, classification_report, roc_auc_score\n",
        "import seaborn as sns\n",
        "from imblearn.over_sampling import SMOTE\n",
        "from sklearn.naive_bayes import GaussianNB\n",
        "from sklearn.model_selection import cross_val_score\n",
        "from collections import Counter\n",
        "from sklearn.svm import SVC\n",
        "from sklearn.tree import DecisionTreeClassifier\n",
        "from sklearn import linear_model, datasets\n",
        "from sklearn.metrics import f1_score, precision_score, recall_score, accuracy_score"
      ]
    },
    {
      "cell_type": "code",
      "source": [
        "# read data\n",
        "covid=pd.read_csv(\"/content/data.csv\", index_col=0)"
      ],
      "metadata": {
        "id": "Pzrinn2T5PNb"
      },
      "execution_count": null,
      "outputs": []
    },
    {
      "cell_type": "code",
      "source": [
        "# show 5 rows from data\n",
        "covid.head()"
      ],
      "metadata": {
        "colab": {
          "base_uri": "https://localhost:8080/",
          "height": 206
        },
        "id": "MlxOvKke5RSy",
        "outputId": "389484f0-a6f5-4a23-c822-1e70ef70acbd"
      },
      "execution_count": null,
      "outputs": [
        {
          "output_type": "execute_result",
          "data": {
            "text/plain": [
              "   location  country  gender   age  vis_wuhan  from_wuhan  symptom1  symptom2  \\\n",
              "0       104        8       1  66.0          1           0        14        31   \n",
              "1       101        8       0  56.0          0           1        14        31   \n",
              "2       137        8       1  46.0          0           1        14        31   \n",
              "3       116        8       0  60.0          1           0        14        31   \n",
              "4       116        8       1  58.0          0           0        14        31   \n",
              "\n",
              "   symptom3  symptom4  symptom5  symptom6  diff_sym_hos  result  \n",
              "0        19        12         3         1             8       1  \n",
              "1        19        12         3         1             0       0  \n",
              "2        19        12         3         1            13       0  \n",
              "3        19        12         3         1             0       0  \n",
              "4        19        12         3         1             0       0  "
            ],
            "text/html": [
              "\n",
              "  <div id=\"df-01ad6257-5609-4592-9cbb-0cc98cbd2b37\">\n",
              "    <div class=\"colab-df-container\">\n",
              "      <div>\n",
              "<style scoped>\n",
              "    .dataframe tbody tr th:only-of-type {\n",
              "        vertical-align: middle;\n",
              "    }\n",
              "\n",
              "    .dataframe tbody tr th {\n",
              "        vertical-align: top;\n",
              "    }\n",
              "\n",
              "    .dataframe thead th {\n",
              "        text-align: right;\n",
              "    }\n",
              "</style>\n",
              "<table border=\"1\" class=\"dataframe\">\n",
              "  <thead>\n",
              "    <tr style=\"text-align: right;\">\n",
              "      <th></th>\n",
              "      <th>location</th>\n",
              "      <th>country</th>\n",
              "      <th>gender</th>\n",
              "      <th>age</th>\n",
              "      <th>vis_wuhan</th>\n",
              "      <th>from_wuhan</th>\n",
              "      <th>symptom1</th>\n",
              "      <th>symptom2</th>\n",
              "      <th>symptom3</th>\n",
              "      <th>symptom4</th>\n",
              "      <th>symptom5</th>\n",
              "      <th>symptom6</th>\n",
              "      <th>diff_sym_hos</th>\n",
              "      <th>result</th>\n",
              "    </tr>\n",
              "  </thead>\n",
              "  <tbody>\n",
              "    <tr>\n",
              "      <th>0</th>\n",
              "      <td>104</td>\n",
              "      <td>8</td>\n",
              "      <td>1</td>\n",
              "      <td>66.0</td>\n",
              "      <td>1</td>\n",
              "      <td>0</td>\n",
              "      <td>14</td>\n",
              "      <td>31</td>\n",
              "      <td>19</td>\n",
              "      <td>12</td>\n",
              "      <td>3</td>\n",
              "      <td>1</td>\n",
              "      <td>8</td>\n",
              "      <td>1</td>\n",
              "    </tr>\n",
              "    <tr>\n",
              "      <th>1</th>\n",
              "      <td>101</td>\n",
              "      <td>8</td>\n",
              "      <td>0</td>\n",
              "      <td>56.0</td>\n",
              "      <td>0</td>\n",
              "      <td>1</td>\n",
              "      <td>14</td>\n",
              "      <td>31</td>\n",
              "      <td>19</td>\n",
              "      <td>12</td>\n",
              "      <td>3</td>\n",
              "      <td>1</td>\n",
              "      <td>0</td>\n",
              "      <td>0</td>\n",
              "    </tr>\n",
              "    <tr>\n",
              "      <th>2</th>\n",
              "      <td>137</td>\n",
              "      <td>8</td>\n",
              "      <td>1</td>\n",
              "      <td>46.0</td>\n",
              "      <td>0</td>\n",
              "      <td>1</td>\n",
              "      <td>14</td>\n",
              "      <td>31</td>\n",
              "      <td>19</td>\n",
              "      <td>12</td>\n",
              "      <td>3</td>\n",
              "      <td>1</td>\n",
              "      <td>13</td>\n",
              "      <td>0</td>\n",
              "    </tr>\n",
              "    <tr>\n",
              "      <th>3</th>\n",
              "      <td>116</td>\n",
              "      <td>8</td>\n",
              "      <td>0</td>\n",
              "      <td>60.0</td>\n",
              "      <td>1</td>\n",
              "      <td>0</td>\n",
              "      <td>14</td>\n",
              "      <td>31</td>\n",
              "      <td>19</td>\n",
              "      <td>12</td>\n",
              "      <td>3</td>\n",
              "      <td>1</td>\n",
              "      <td>0</td>\n",
              "      <td>0</td>\n",
              "    </tr>\n",
              "    <tr>\n",
              "      <th>4</th>\n",
              "      <td>116</td>\n",
              "      <td>8</td>\n",
              "      <td>1</td>\n",
              "      <td>58.0</td>\n",
              "      <td>0</td>\n",
              "      <td>0</td>\n",
              "      <td>14</td>\n",
              "      <td>31</td>\n",
              "      <td>19</td>\n",
              "      <td>12</td>\n",
              "      <td>3</td>\n",
              "      <td>1</td>\n",
              "      <td>0</td>\n",
              "      <td>0</td>\n",
              "    </tr>\n",
              "  </tbody>\n",
              "</table>\n",
              "</div>\n",
              "      <button class=\"colab-df-convert\" onclick=\"convertToInteractive('df-01ad6257-5609-4592-9cbb-0cc98cbd2b37')\"\n",
              "              title=\"Convert this dataframe to an interactive table.\"\n",
              "              style=\"display:none;\">\n",
              "        \n",
              "  <svg xmlns=\"http://www.w3.org/2000/svg\" height=\"24px\"viewBox=\"0 0 24 24\"\n",
              "       width=\"24px\">\n",
              "    <path d=\"M0 0h24v24H0V0z\" fill=\"none\"/>\n",
              "    <path d=\"M18.56 5.44l.94 2.06.94-2.06 2.06-.94-2.06-.94-.94-2.06-.94 2.06-2.06.94zm-11 1L8.5 8.5l.94-2.06 2.06-.94-2.06-.94L8.5 2.5l-.94 2.06-2.06.94zm10 10l.94 2.06.94-2.06 2.06-.94-2.06-.94-.94-2.06-.94 2.06-2.06.94z\"/><path d=\"M17.41 7.96l-1.37-1.37c-.4-.4-.92-.59-1.43-.59-.52 0-1.04.2-1.43.59L10.3 9.45l-7.72 7.72c-.78.78-.78 2.05 0 2.83L4 21.41c.39.39.9.59 1.41.59.51 0 1.02-.2 1.41-.59l7.78-7.78 2.81-2.81c.8-.78.8-2.07 0-2.86zM5.41 20L4 18.59l7.72-7.72 1.47 1.35L5.41 20z\"/>\n",
              "  </svg>\n",
              "      </button>\n",
              "      \n",
              "  <style>\n",
              "    .colab-df-container {\n",
              "      display:flex;\n",
              "      flex-wrap:wrap;\n",
              "      gap: 12px;\n",
              "    }\n",
              "\n",
              "    .colab-df-convert {\n",
              "      background-color: #E8F0FE;\n",
              "      border: none;\n",
              "      border-radius: 50%;\n",
              "      cursor: pointer;\n",
              "      display: none;\n",
              "      fill: #1967D2;\n",
              "      height: 32px;\n",
              "      padding: 0 0 0 0;\n",
              "      width: 32px;\n",
              "    }\n",
              "\n",
              "    .colab-df-convert:hover {\n",
              "      background-color: #E2EBFA;\n",
              "      box-shadow: 0px 1px 2px rgba(60, 64, 67, 0.3), 0px 1px 3px 1px rgba(60, 64, 67, 0.15);\n",
              "      fill: #174EA6;\n",
              "    }\n",
              "\n",
              "    [theme=dark] .colab-df-convert {\n",
              "      background-color: #3B4455;\n",
              "      fill: #D2E3FC;\n",
              "    }\n",
              "\n",
              "    [theme=dark] .colab-df-convert:hover {\n",
              "      background-color: #434B5C;\n",
              "      box-shadow: 0px 1px 3px 1px rgba(0, 0, 0, 0.15);\n",
              "      filter: drop-shadow(0px 1px 2px rgba(0, 0, 0, 0.3));\n",
              "      fill: #FFFFFF;\n",
              "    }\n",
              "  </style>\n",
              "\n",
              "      <script>\n",
              "        const buttonEl =\n",
              "          document.querySelector('#df-01ad6257-5609-4592-9cbb-0cc98cbd2b37 button.colab-df-convert');\n",
              "        buttonEl.style.display =\n",
              "          google.colab.kernel.accessAllowed ? 'block' : 'none';\n",
              "\n",
              "        async function convertToInteractive(key) {\n",
              "          const element = document.querySelector('#df-01ad6257-5609-4592-9cbb-0cc98cbd2b37');\n",
              "          const dataTable =\n",
              "            await google.colab.kernel.invokeFunction('convertToInteractive',\n",
              "                                                     [key], {});\n",
              "          if (!dataTable) return;\n",
              "\n",
              "          const docLinkHtml = 'Like what you see? Visit the ' +\n",
              "            '<a target=\"_blank\" href=https://colab.research.google.com/notebooks/data_table.ipynb>data table notebook</a>'\n",
              "            + ' to learn more about interactive tables.';\n",
              "          element.innerHTML = '';\n",
              "          dataTable['output_type'] = 'display_data';\n",
              "          await google.colab.output.renderOutput(dataTable, element);\n",
              "          const docLink = document.createElement('div');\n",
              "          docLink.innerHTML = docLinkHtml;\n",
              "          element.appendChild(docLink);\n",
              "        }\n",
              "      </script>\n",
              "    </div>\n",
              "  </div>\n",
              "  "
            ]
          },
          "metadata": {},
          "execution_count": 3
        }
      ]
    },
    {
      "cell_type": "code",
      "source": [
        "print(\"Size/Shape of the dataset: \",covid.shape)               # print the shape of data\n",
        "print(\"Checking for null values:\\n\",covid.isnull().sum())      #check for nulll values\n",
        "print(\"Checking Data-type of each column:\\n\",covid.dtypes)     # show data type for each column"
      ],
      "metadata": {
        "colab": {
          "base_uri": "https://localhost:8080/"
        },
        "id": "6qi96nKA5Ua8",
        "outputId": "263b8cd7-9ce8-4ad0-f62c-4df5ebe39e1c"
      },
      "execution_count": null,
      "outputs": [
        {
          "output_type": "stream",
          "name": "stdout",
          "text": [
            "Size/Shape of the dataset:  (863, 14)\n",
            "Checking for null values:\n",
            " location        0\n",
            "country         0\n",
            "gender          0\n",
            "age             0\n",
            "vis_wuhan       0\n",
            "from_wuhan      0\n",
            "symptom1        0\n",
            "symptom2        0\n",
            "symptom3        0\n",
            "symptom4        0\n",
            "symptom5        0\n",
            "symptom6        0\n",
            "diff_sym_hos    0\n",
            "result          0\n",
            "dtype: int64\n",
            "Checking Data-type of each column:\n",
            " location          int64\n",
            "country           int64\n",
            "gender            int64\n",
            "age             float64\n",
            "vis_wuhan         int64\n",
            "from_wuhan        int64\n",
            "symptom1          int64\n",
            "symptom2          int64\n",
            "symptom3          int64\n",
            "symptom4          int64\n",
            "symptom5          int64\n",
            "symptom6          int64\n",
            "diff_sym_hos      int64\n",
            "result            int64\n",
            "dtype: object\n"
          ]
        }
      ]
    },
    {
      "cell_type": "code",
      "source": [
        "# split data X for features and y for target\n",
        "X = covid.drop(columns = ['result']).copy()  \n",
        "y = covid['result']"
      ],
      "metadata": {
        "id": "iJZFNg0d5unR"
      },
      "execution_count": null,
      "outputs": []
    },
    {
      "cell_type": "code",
      "source": [
        "#count number of 1's and 0's in the target column\n",
        "counter = Counter(y)\n",
        "print(counter)"
      ],
      "metadata": {
        "colab": {
          "base_uri": "https://localhost:8080/"
        },
        "id": "PeMUge1e9s7A",
        "outputId": "cc9f00e2-59d7-4a9b-f8ff-6d1768c5869b"
      },
      "execution_count": null,
      "outputs": [
        {
          "output_type": "stream",
          "name": "stdout",
          "text": [
            "Counter({0: 755, 1: 108})\n"
          ]
        }
      ]
    },
    {
      "cell_type": "code",
      "source": [
        " #plot 1's and 0's\n",
        "\n",
        "d = sns.countplot(y)\n",
        "d.set_xticklabels(['0', '1']) \n",
        "plt.show()"
      ],
      "metadata": {
        "colab": {
          "base_uri": "https://localhost:8080/",
          "height": 334
        },
        "id": "Cbs6rOef7qQL",
        "outputId": "1153ed1a-c869-4c79-f3f0-e5358355f8c1"
      },
      "execution_count": null,
      "outputs": [
        {
          "output_type": "stream",
          "name": "stderr",
          "text": [
            "/usr/local/lib/python3.8/dist-packages/seaborn/_decorators.py:36: FutureWarning: Pass the following variable as a keyword arg: x. From version 0.12, the only valid positional argument will be `data`, and passing other arguments without an explicit keyword will result in an error or misinterpretation.\n",
            "  warnings.warn(\n"
          ]
        },
        {
          "output_type": "display_data",
          "data": {
            "text/plain": [
              "<Figure size 432x288 with 1 Axes>"
            ],
            "image/png": "[encoded data removed]"
          },
          "metadata": {
            "needs_background": "light"
          }
        }
      ]
    },
    {
      "cell_type": "code",
      "source": [
        "#use Smote to make data balance\n",
        "oversample = SMOTE(k_neighbors=2)\n",
        "X_train, y_train = oversample.fit_resample(X, covid[\"result\"])"
      ],
      "metadata": {
        "id": "AD-pzH72-gzH"
      },
      "execution_count": null,
      "outputs": []
    },
    {
      "cell_type": "code",
      "source": [
        "# count 1's and 0's after aplyingg smote\n",
        "counter = Counter(y_train)\n",
        "print(counter)"
      ],
      "metadata": {
        "colab": {
          "base_uri": "https://localhost:8080/"
        },
        "id": "ekaz0ElS7aFZ",
        "outputId": "8c9e69a3-8aef-44dc-80b4-163558739cf8"
      },
      "execution_count": null,
      "outputs": [
        {
          "output_type": "stream",
          "name": "stdout",
          "text": [
            "Counter({1: 755, 0: 755})\n"
          ]
        }
      ]
    },
    {
      "cell_type": "code",
      "source": [
        "# draw 1's and 0's after aplyingg smote\n",
        "d = sns.countplot(y_train)\n",
        "d.set_xticklabels(['0', '1']) \n",
        "plt.show()"
      ],
      "metadata": {
        "colab": {
          "base_uri": "https://localhost:8080/",
          "height": 334
        },
        "id": "zuCG4pi90wXC",
        "outputId": "9f0636d0-6b9f-4b7a-bda2-53d201a8d7fc"
      },
      "execution_count": null,
      "outputs": [
        {
          "output_type": "stream",
          "name": "stderr",
          "text": [
            "/usr/local/lib/python3.8/dist-packages/seaborn/_decorators.py:36: FutureWarning: Pass the following variable as a keyword arg: x. From version 0.12, the only valid positional argument will be `data`, and passing other arguments without an explicit keyword will result in an error or misinterpretation.\n",
            "  warnings.warn(\n"
          ]
        },
        {
          "output_type": "display_data",
          "data": {
            "text/plain": [
              "<Figure size 432x288 with 1 Axes>"
            ],
            "image/png": "[encoded data removed]"
          },
          "metadata": {
            "needs_background": "light"
          }
        }
      ]
    },
    {
      "cell_type": "code",
      "source": [
        "#Split data into train 80% and test 20%\n",
        "X_train, X_test, y_train, y_test = train_test_split(X_train,y_train , test_size=0.2,random_state=25 , shuffle=True)"
      ],
      "metadata": {
        "id": "HXNQjJM-5fdS"
      },
      "execution_count": null,
      "outputs": []
    },
    {
      "cell_type": "code",
      "source": [
        "# scale the values because most of classifier need that\n",
        "scaler = StandardScaler()\n",
        "scaler.fit(X_train)\n",
        "X_train=scaler.transform(X_train)\n",
        "X_test=scaler.transform(X_test)"
      ],
      "metadata": {
        "id": "B0VcDe-dMJvg"
      },
      "execution_count": null,
      "outputs": []
    },
    {
      "cell_type": "markdown",
      "source": [
        "# KNN"
      ],
      "metadata": {
        "id": "CXdKOT_n0k1j"
      }
    },
    {
      "cell_type": "code",
      "source": [
        "param_grid = [\n",
        "    {\n",
        "        \"weights\":[\"uniform\"],\n",
        "        \"n_neighbors\":[i for i in range(3,30,2)]\n",
        "    },\n",
        "    {\n",
        "        \"weights\":[\"distance\"],\n",
        "        \"n_neighbors\":[i for i in range(3,30,2)],\n",
        "        \"p\":[i for i in range(1,6)]\n",
        "    }\n",
        "]"
      ],
      "metadata": {
        "id": "2eslZjvf5h5l"
      },
      "execution_count": null,
      "outputs": []
    },
    {
      "cell_type": "code",
      "source": [
        "knn = KNeighborsClassifier()\n",
        "grid_search = GridSearchCV(knn,param_grid,verbose=2)\n",
        "grid_search.fit(X_train,y_train)"
      ],
      "metadata": {
        "colab": {
          "base_uri": "https://localhost:8080/"
        },
        "id": "q-mwbZ3K4-We",
        "outputId": "55e566fd-c709-45c4-b19b-15e5f79a9095"
      },
      "execution_count": null,
      "outputs": [
        {
          "output_type": "stream",
          "name": "stdout",
          "text": [
            "Fitting 5 folds for each of 84 candidates, totalling 420 fits\n",
            "[CV] END .....................n_neighbors=3, weights=uniform; total time=   0.0s\n",
            "[CV] END .....................n_neighbors=3, weights=uniform; total time=   0.0s\n",
            "[CV] END .....................n_neighbors=3, weights=uniform; total time=   0.0s\n",
            "[CV] END .....................n_neighbors=3, weights=uniform; total time=   0.0s\n",
            "[CV] END .....................n_neighbors=3, weights=uniform; total time=   0.0s\n",
            "[CV] END .....................n_neighbors=5, weights=uniform; total time=   0.0s\n",
            "[CV] END .....................n_neighbors=5, weights=uniform; total time=   0.0s\n",
            "[CV] END .....................n_neighbors=5, weights=uniform; total time=   0.0s\n",
            "[CV] END .....................n_neighbors=5, weights=uniform; total time=   0.0s\n",
            "[CV] END .....................n_neighbors=5, weights=uniform; total time=   0.0s\n",
            "[CV] END .....................n_neighbors=7, weights=uniform; total time=   0.0s\n",
            "[CV] END .....................n_neighbors=7, weights=uniform; total time=   0.0s\n",
            "[CV] END .....................n_neighbors=7, weights=uniform; total time=   0.0s\n",
            "[CV] END .....................n_neighbors=7, weights=uniform; total time=   0.0s\n",
            "[CV] END .....................n_neighbors=7, weights=uniform; total time=   0.0s\n",
            "[CV] END .....................n_neighbors=9, weights=uniform; total time=   0.0s\n",
            "[CV] END .....................n_neighbors=9, weights=uniform; total time=   0.0s\n",
            "[CV] END .....................n_neighbors=9, weights=uniform; total time=   0.0s\n",
            "[CV] END .....................n_neighbors=9, weights=uniform; total time=   0.0s\n",
            "[CV] END .....................n_neighbors=9, weights=uniform; total time=   0.0s\n",
            "[CV] END ....................n_neighbors=11, weights=uniform; total time=   0.0s\n",
            "[CV] END ....................n_neighbors=11, weights=uniform; total time=   0.0s\n",
            "[CV] END ....................n_neighbors=11, weights=uniform; total time=   0.0s\n",
            "[CV] END ....................n_neighbors=11, weights=uniform; total time=   0.0s\n",
            "[CV] END ....................n_neighbors=11, weights=uniform; total time=   0.0s\n",
            "[CV] END ....................n_neighbors=13, weights=uniform; total time=   0.0s\n",
            "[CV] END ....................n_neighbors=13, weights=uniform; total time=   0.0s\n",
            "[CV] END ....................n_neighbors=13, weights=uniform; total time=   0.0s\n",
            "[CV] END ....................n_neighbors=13, weights=uniform; total time=   0.0s\n",
            "[CV] END ....................n_neighbors=13, weights=uniform; total time=   0.0s\n",
            "[CV] END ....................n_neighbors=15, weights=uniform; total time=   0.0s\n",
            "[CV] END ....................n_neighbors=15, weights=uniform; total time=   0.0s\n",
            "[CV] END ....................n_neighbors=15, weights=uniform; total time=   0.0s\n",
            "[CV] END ....................n_neighbors=15, weights=uniform; total time=   0.0s\n",
            "[CV] END ....................n_neighbors=15, weights=uniform; total time=   0.0s\n",
            "[CV] END ....................n_neighbors=17, weights=uniform; total time=   0.0s\n",
            "[CV] END ....................n_neighbors=17, weights=uniform; total time=   0.0s\n",
            "[CV] END ....................n_neighbors=17, weights=uniform; total time=   0.0s\n",
            "[CV] END ....................n_neighbors=17, weights=uniform; total time=   0.0s\n",
            "[CV] END ....................n_neighbors=17, weights=uniform; total time=   0.0s\n",
            "[CV] END ....................n_neighbors=19, weights=uniform; total time=   0.0s\n",
            "[CV] END ....................n_neighbors=19, weights=uniform; total time=   0.0s\n",
            "[CV] END ....................n_neighbors=19, weights=uniform; total time=   0.0s\n",
            "[CV] END ....................n_neighbors=19, weights=uniform; total time=   0.0s\n",
            "[CV] END ....................n_neighbors=19, weights=uniform; total time=   0.0s\n",
            "[CV] END ....................n_neighbors=21, weights=uniform; total time=   0.0s\n",
            "[CV] END ....................n_neighbors=21, weights=uniform; total time=   0.0s\n",
            "[CV] END ....................n_neighbors=21, weights=uniform; total time=   0.0s\n",
            "[CV] END ....................n_neighbors=21, weights=uniform; total time=   0.0s\n",
            "[CV] END ....................n_neighbors=21, weights=uniform; total time=   0.0s\n",
            "[CV] END ....................n_neighbors=23, weights=uniform; total time=   0.0s\n",
            "[CV] END ....................n_neighbors=23, weights=uniform; total time=   0.0s\n",
            "[CV] END ....................n_neighbors=23, weights=uniform; total time=   0.0s\n",
            "[CV] END ....................n_neighbors=23, weights=uniform; total time=   0.0s\n",
            "[CV] END ....................n_neighbors=23, weights=uniform; total time=   0.0s\n",
            "[CV] END ....................n_neighbors=25, weights=uniform; total time=   0.0s\n",
            "[CV] END ....................n_neighbors=25, weights=uniform; total time=   0.0s\n",
            "[CV] END ....................n_neighbors=25, weights=uniform; total time=   0.0s\n",
            "[CV] END ....................n_neighbors=25, weights=uniform; total time=   0.0s\n",
            "[CV] END ....................n_neighbors=25, weights=uniform; total time=   0.0s\n",
            "[CV] END ....................n_neighbors=27, weights=uniform; total time=   0.0s\n",
            "[CV] END ....................n_neighbors=27, weights=uniform; total time=   0.0s\n",
            "[CV] END ....................n_neighbors=27, weights=uniform; total time=   0.0s\n",
            "[CV] END ....................n_neighbors=27, weights=uniform; total time=   0.0s\n",
            "[CV] END ....................n_neighbors=27, weights=uniform; total time=   0.0s\n",
            "[CV] END ....................n_neighbors=29, weights=uniform; total time=   0.0s\n",
            "[CV] END ....................n_neighbors=29, weights=uniform; total time=   0.0s\n",
            "[CV] END ....................n_neighbors=29, weights=uniform; total time=   0.0s\n",
            "[CV] END ....................n_neighbors=29, weights=uniform; total time=   0.0s\n",
            "[CV] END ....................n_neighbors=29, weights=uniform; total time=   0.0s\n",
            "[CV] END ...............n_neighbors=3, p=1, weights=distance; total time=   0.0s\n",
            "[CV] END ...............n_neighbors=3, p=1, weights=distance; total time=   0.0s\n",
            "[CV] END ...............n_neighbors=3, p=1, weights=distance; total time=   0.0s\n",
            "[CV] END ...............n_neighbors=3, p=1, weights=distance; total time=   0.0s\n",
            "[CV] END ...............n_neighbors=3, p=1, weights=distance; total time=   0.0s\n",
            "[CV] END ...............n_neighbors=3, p=2, weights=distance; total time=   0.0s\n",
            "[CV] END ...............n_neighbors=3, p=2, weights=distance; total time=   0.0s\n",
            "[CV] END ...............n_neighbors=3, p=2, weights=distance; total time=   0.0s\n",
            "[CV] END ...............n_neighbors=3, p=2, weights=distance; total time=   0.0s\n",
            "[CV] END ...............n_neighbors=3, p=2, weights=distance; total time=   0.0s\n",
            "[CV] END ...............n_neighbors=3, p=3, weights=distance; total time=   0.1s\n",
            "[CV] END ...............n_neighbors=3, p=3, weights=distance; total time=   0.1s\n",
            "[CV] END ...............n_neighbors=3, p=3, weights=distance; total time=   0.1s\n",
            "[CV] END ...............n_neighbors=3, p=3, weights=distance; total time=   0.1s\n",
            "[CV] END ...............n_neighbors=3, p=3, weights=distance; total time=   0.1s\n",
            "[CV] END ...............n_neighbors=3, p=4, weights=distance; total time=   0.0s\n",
            "[CV] END ...............n_neighbors=3, p=4, weights=distance; total time=   0.0s\n",
            "[CV] END ...............n_neighbors=3, p=4, weights=distance; total time=   0.0s\n",
            "[CV] END ...............n_neighbors=3, p=4, weights=distance; total time=   0.1s\n",
            "[CV] END ...............n_neighbors=3, p=4, weights=distance; total time=   0.1s\n",
            "[CV] END ...............n_neighbors=3, p=5, weights=distance; total time=   0.0s\n",
            "[CV] END ...............n_neighbors=3, p=5, weights=distance; total time=   0.0s\n",
            "[CV] END ...............n_neighbors=3, p=5, weights=distance; total time=   0.0s\n",
            "[CV] END ...............n_neighbors=3, p=5, weights=distance; total time=   0.1s\n",
            "[CV] END ...............n_neighbors=3, p=5, weights=distance; total time=   0.1s\n",
            "[CV] END ...............n_neighbors=5, p=1, weights=distance; total time=   0.0s\n",
            "[CV] END ...............n_neighbors=5, p=1, weights=distance; total time=   0.0s\n",
            "[CV] END ...............n_neighbors=5, p=1, weights=distance; total time=   0.0s\n",
            "[CV] END ...............n_neighbors=5, p=1, weights=distance; total time=   0.0s\n",
            "[CV] END ...............n_neighbors=5, p=1, weights=distance; total time=   0.0s\n",
            "[CV] END ...............n_neighbors=5, p=2, weights=distance; total time=   0.0s\n",
            "[CV] END ...............n_neighbors=5, p=2, weights=distance; total time=   0.0s\n",
            "[CV] END ...............n_neighbors=5, p=2, weights=distance; total time=   0.0s\n",
            "[CV] END ...............n_neighbors=5, p=2, weights=distance; total time=   0.0s\n",
            "[CV] END ...............n_neighbors=5, p=2, weights=distance; total time=   0.0s\n",
            "[CV] END ...............n_neighbors=5, p=3, weights=distance; total time=   0.1s\n",
            "[CV] END ...............n_neighbors=5, p=3, weights=distance; total time=   0.1s\n",
            "[CV] END ...............n_neighbors=5, p=3, weights=distance; total time=   0.1s\n",
            "[CV] END ...............n_neighbors=5, p=3, weights=distance; total time=   0.1s\n",
            "[CV] END ...............n_neighbors=5, p=3, weights=distance; total time=   0.1s\n",
            "[CV] END ...............n_neighbors=5, p=4, weights=distance; total time=   0.1s\n",
            "[CV] END ...............n_neighbors=5, p=4, weights=distance; total time=   0.0s\n",
            "[CV] END ...............n_neighbors=5, p=4, weights=distance; total time=   0.0s\n",
            "[CV] END ...............n_neighbors=5, p=4, weights=distance; total time=   0.1s\n",
            "[CV] END ...............n_neighbors=5, p=4, weights=distance; total time=   0.1s\n",
            "[CV] END ...............n_neighbors=5, p=5, weights=distance; total time=   0.1s\n",
            "[CV] END ...............n_neighbors=5, p=5, weights=distance; total time=   0.1s\n",
            "[CV] END ...............n_neighbors=5, p=5, weights=distance; total time=   0.0s\n",
            "[CV] END ...............n_neighbors=5, p=5, weights=distance; total time=   0.1s\n",
            "[CV] END ...............n_neighbors=5, p=5, weights=distance; total time=   0.1s\n",
            "[CV] END ...............n_neighbors=7, p=1, weights=distance; total time=   0.0s\n",
            "[CV] END ...............n_neighbors=7, p=1, weights=distance; total time=   0.0s\n",
            "[CV] END ...............n_neighbors=7, p=1, weights=distance; total time=   0.0s\n",
            "[CV] END ...............n_neighbors=7, p=1, weights=distance; total time=   0.0s\n",
            "[CV] END ...............n_neighbors=7, p=1, weights=distance; total time=   0.0s\n",
            "[CV] END ...............n_neighbors=7, p=2, weights=distance; total time=   0.0s\n",
            "[CV] END ...............n_neighbors=7, p=2, weights=distance; total time=   0.0s\n",
            "[CV] END ...............n_neighbors=7, p=2, weights=distance; total time=   0.0s\n",
            "[CV] END ...............n_neighbors=7, p=2, weights=distance; total time=   0.0s\n",
            "[CV] END ...............n_neighbors=7, p=2, weights=distance; total time=   0.0s\n",
            "[CV] END ...............n_neighbors=7, p=3, weights=distance; total time=   0.1s\n",
            "[CV] END ...............n_neighbors=7, p=3, weights=distance; total time=   0.1s\n",
            "[CV] END ...............n_neighbors=7, p=3, weights=distance; total time=   0.0s\n",
            "[CV] END ...............n_neighbors=7, p=3, weights=distance; total time=   0.1s\n",
            "[CV] END ...............n_neighbors=7, p=3, weights=distance; total time=   0.1s\n",
            "[CV] END ...............n_neighbors=7, p=4, weights=distance; total time=   0.0s\n",
            "[CV] END ...............n_neighbors=7, p=4, weights=distance; total time=   0.1s\n",
            "[CV] END ...............n_neighbors=7, p=4, weights=distance; total time=   0.1s\n",
            "[CV] END ...............n_neighbors=7, p=4, weights=distance; total time=   0.1s\n",
            "[CV] END ...............n_neighbors=7, p=4, weights=distance; total time=   0.1s\n",
            "[CV] END ...............n_neighbors=7, p=5, weights=distance; total time=   0.0s\n",
            "[CV] END ...............n_neighbors=7, p=5, weights=distance; total time=   0.1s\n",
            "[CV] END ...............n_neighbors=7, p=5, weights=distance; total time=   0.0s\n",
            "[CV] END ...............n_neighbors=7, p=5, weights=distance; total time=   0.1s\n",
            "[CV] END ...............n_neighbors=7, p=5, weights=distance; total time=   0.1s\n",
            "[CV] END ...............n_neighbors=9, p=1, weights=distance; total time=   0.0s\n",
            "[CV] END ...............n_neighbors=9, p=1, weights=distance; total time=   0.0s\n",
            "[CV] END ...............n_neighbors=9, p=1, weights=distance; total time=   0.0s\n",
            "[CV] END ...............n_neighbors=9, p=1, weights=distance; total time=   0.0s\n",
            "[CV] END ...............n_neighbors=9, p=1, weights=distance; total time=   0.0s\n",
            "[CV] END ...............n_neighbors=9, p=2, weights=distance; total time=   0.0s\n",
            "[CV] END ...............n_neighbors=9, p=2, weights=distance; total time=   0.0s\n",
            "[CV] END ...............n_neighbors=9, p=2, weights=distance; total time=   0.0s\n",
            "[CV] END ...............n_neighbors=9, p=2, weights=distance; total time=   0.0s\n",
            "[CV] END ...............n_neighbors=9, p=2, weights=distance; total time=   0.0s\n",
            "[CV] END ...............n_neighbors=9, p=3, weights=distance; total time=   0.1s\n",
            "[CV] END ...............n_neighbors=9, p=3, weights=distance; total time=   0.1s\n",
            "[CV] END ...............n_neighbors=9, p=3, weights=distance; total time=   0.1s\n",
            "[CV] END ...............n_neighbors=9, p=3, weights=distance; total time=   0.1s\n",
            "[CV] END ...............n_neighbors=9, p=3, weights=distance; total time=   0.1s\n",
            "[CV] END ...............n_neighbors=9, p=4, weights=distance; total time=   0.2s\n",
            "[CV] END ...............n_neighbors=9, p=4, weights=distance; total time=   0.2s\n",
            "[CV] END ...............n_neighbors=9, p=4, weights=distance; total time=   0.2s\n",
            "[CV] END ...............n_neighbors=9, p=4, weights=distance; total time=   0.2s\n",
            "[CV] END ...............n_neighbors=9, p=4, weights=distance; total time=   0.2s\n",
            "[CV] END ...............n_neighbors=9, p=5, weights=distance; total time=   0.2s\n",
            "[CV] END ...............n_neighbors=9, p=5, weights=distance; total time=   0.2s\n",
            "[CV] END ...............n_neighbors=9, p=5, weights=distance; total time=   0.3s\n",
            "[CV] END ...............n_neighbors=9, p=5, weights=distance; total time=   0.2s\n",
            "[CV] END ...............n_neighbors=9, p=5, weights=distance; total time=   0.2s\n",
            "[CV] END ..............n_neighbors=11, p=1, weights=distance; total time=   0.1s\n",
            "[CV] END ..............n_neighbors=11, p=1, weights=distance; total time=   0.0s\n",
            "[CV] END ..............n_neighbors=11, p=1, weights=distance; total time=   0.0s\n",
            "[CV] END ..............n_neighbors=11, p=1, weights=distance; total time=   0.0s\n",
            "[CV] END ..............n_neighbors=11, p=1, weights=distance; total time=   0.1s\n",
            "[CV] END ..............n_neighbors=11, p=2, weights=distance; total time=   0.0s\n",
            "[CV] END ..............n_neighbors=11, p=2, weights=distance; total time=   0.0s\n",
            "[CV] END ..............n_neighbors=11, p=2, weights=distance; total time=   0.1s\n",
            "[CV] END ..............n_neighbors=11, p=2, weights=distance; total time=   0.1s\n",
            "[CV] END ..............n_neighbors=11, p=2, weights=distance; total time=   0.0s\n",
            "[CV] END ..............n_neighbors=11, p=3, weights=distance; total time=   0.2s\n",
            "[CV] END ..............n_neighbors=11, p=3, weights=distance; total time=   0.2s\n",
            "[CV] END ..............n_neighbors=11, p=3, weights=distance; total time=   0.2s\n",
            "[CV] END ..............n_neighbors=11, p=3, weights=distance; total time=   0.2s\n",
            "[CV] END ..............n_neighbors=11, p=3, weights=distance; total time=   0.1s\n",
            "[CV] END ..............n_neighbors=11, p=4, weights=distance; total time=   0.1s\n",
            "[CV] END ..............n_neighbors=11, p=4, weights=distance; total time=   0.1s\n",
            "[CV] END ..............n_neighbors=11, p=4, weights=distance; total time=   0.1s\n",
            "[CV] END ..............n_neighbors=11, p=4, weights=distance; total time=   0.1s\n",
            "[CV] END ..............n_neighbors=11, p=4, weights=distance; total time=   0.1s\n",
            "[CV] END ..............n_neighbors=11, p=5, weights=distance; total time=   0.1s\n",
            "[CV] END ..............n_neighbors=11, p=5, weights=distance; total time=   0.1s\n",
            "[CV] END ..............n_neighbors=11, p=5, weights=distance; total time=   0.1s\n",
            "[CV] END ..............n_neighbors=11, p=5, weights=distance; total time=   0.1s\n",
            "[CV] END ..............n_neighbors=11, p=5, weights=distance; total time=   0.1s\n",
            "[CV] END ..............n_neighbors=13, p=1, weights=distance; total time=   0.0s\n",
            "[CV] END ..............n_neighbors=13, p=1, weights=distance; total time=   0.0s\n",
            "[CV] END ..............n_neighbors=13, p=1, weights=distance; total time=   0.0s\n",
            "[CV] END ..............n_neighbors=13, p=1, weights=distance; total time=   0.0s\n",
            "[CV] END ..............n_neighbors=13, p=1, weights=distance; total time=   0.0s\n",
            "[CV] END ..............n_neighbors=13, p=2, weights=distance; total time=   0.0s\n",
            "[CV] END ..............n_neighbors=13, p=2, weights=distance; total time=   0.0s\n",
            "[CV] END ..............n_neighbors=13, p=2, weights=distance; total time=   0.0s\n",
            "[CV] END ..............n_neighbors=13, p=2, weights=distance; total time=   0.0s\n",
            "[CV] END ..............n_neighbors=13, p=2, weights=distance; total time=   0.0s\n",
            "[CV] END ..............n_neighbors=13, p=3, weights=distance; total time=   0.1s\n",
            "[CV] END ..............n_neighbors=13, p=3, weights=distance; total time=   0.1s\n",
            "[CV] END ..............n_neighbors=13, p=3, weights=distance; total time=   0.1s\n",
            "[CV] END ..............n_neighbors=13, p=3, weights=distance; total time=   0.1s\n",
            "[CV] END ..............n_neighbors=13, p=3, weights=distance; total time=   0.2s\n",
            "[CV] END ..............n_neighbors=13, p=4, weights=distance; total time=   0.1s\n",
            "[CV] END ..............n_neighbors=13, p=4, weights=distance; total time=   0.1s\n",
            "[CV] END ..............n_neighbors=13, p=4, weights=distance; total time=   0.1s\n",
            "[CV] END ..............n_neighbors=13, p=4, weights=distance; total time=   0.2s\n",
            "[CV] END ..............n_neighbors=13, p=4, weights=distance; total time=   0.1s\n",
            "[CV] END ..............n_neighbors=13, p=5, weights=distance; total time=   0.1s\n",
            "[CV] END ..............n_neighbors=13, p=5, weights=distance; total time=   0.1s\n",
            "[CV] END ..............n_neighbors=13, p=5, weights=distance; total time=   0.1s\n",
            "[CV] END ..............n_neighbors=13, p=5, weights=distance; total time=   0.2s\n",
            "[CV] END ..............n_neighbors=13, p=5, weights=distance; total time=   0.2s\n",
            "[CV] END ..............n_neighbors=15, p=1, weights=distance; total time=   0.0s\n",
            "[CV] END ..............n_neighbors=15, p=1, weights=distance; total time=   0.0s\n",
            "[CV] END ..............n_neighbors=15, p=1, weights=distance; total time=   0.0s\n",
            "[CV] END ..............n_neighbors=15, p=1, weights=distance; total time=   0.0s\n",
            "[CV] END ..............n_neighbors=15, p=1, weights=distance; total time=   0.0s\n",
            "[CV] END ..............n_neighbors=15, p=2, weights=distance; total time=   0.0s\n",
            "[CV] END ..............n_neighbors=15, p=2, weights=distance; total time=   0.0s\n",
            "[CV] END ..............n_neighbors=15, p=2, weights=distance; total time=   0.0s\n",
            "[CV] END ..............n_neighbors=15, p=2, weights=distance; total time=   0.0s\n",
            "[CV] END ..............n_neighbors=15, p=2, weights=distance; total time=   0.0s\n",
            "[CV] END ..............n_neighbors=15, p=3, weights=distance; total time=   0.1s\n",
            "[CV] END ..............n_neighbors=15, p=3, weights=distance; total time=   0.1s\n",
            "[CV] END ..............n_neighbors=15, p=3, weights=distance; total time=   0.1s\n",
            "[CV] END ..............n_neighbors=15, p=3, weights=distance; total time=   0.1s\n",
            "[CV] END ..............n_neighbors=15, p=3, weights=distance; total time=   0.1s\n",
            "[CV] END ..............n_neighbors=15, p=4, weights=distance; total time=   0.1s\n",
            "[CV] END ..............n_neighbors=15, p=4, weights=distance; total time=   0.1s\n",
            "[CV] END ..............n_neighbors=15, p=4, weights=distance; total time=   0.1s\n",
            "[CV] END ..............n_neighbors=15, p=4, weights=distance; total time=   0.1s\n",
            "[CV] END ..............n_neighbors=15, p=4, weights=distance; total time=   0.1s\n",
            "[CV] END ..............n_neighbors=15, p=5, weights=distance; total time=   0.1s\n",
            "[CV] END ..............n_neighbors=15, p=5, weights=distance; total time=   0.1s\n",
            "[CV] END ..............n_neighbors=15, p=5, weights=distance; total time=   0.1s\n",
            "[CV] END ..............n_neighbors=15, p=5, weights=distance; total time=   0.1s\n",
            "[CV] END ..............n_neighbors=15, p=5, weights=distance; total time=   0.1s\n",
            "[CV] END ..............n_neighbors=17, p=1, weights=distance; total time=   0.0s\n",
            "[CV] END ..............n_neighbors=17, p=1, weights=distance; total time=   0.0s\n",
            "[CV] END ..............n_neighbors=17, p=1, weights=distance; total time=   0.0s\n",
            "[CV] END ..............n_neighbors=17, p=1, weights=distance; total time=   0.0s\n",
            "[CV] END ..............n_neighbors=17, p=1, weights=distance; total time=   0.0s\n",
            "[CV] END ..............n_neighbors=17, p=2, weights=distance; total time=   0.0s\n",
            "[CV] END ..............n_neighbors=17, p=2, weights=distance; total time=   0.0s\n",
            "[CV] END ..............n_neighbors=17, p=2, weights=distance; total time=   0.0s\n",
            "[CV] END ..............n_neighbors=17, p=2, weights=distance; total time=   0.0s\n",
            "[CV] END ..............n_neighbors=17, p=2, weights=distance; total time=   0.0s\n",
            "[CV] END ..............n_neighbors=17, p=3, weights=distance; total time=   0.1s\n",
            "[CV] END ..............n_neighbors=17, p=3, weights=distance; total time=   0.1s\n",
            "[CV] END ..............n_neighbors=17, p=3, weights=distance; total time=   0.1s\n",
            "[CV] END ..............n_neighbors=17, p=3, weights=distance; total time=   0.1s\n",
            "[CV] END ..............n_neighbors=17, p=3, weights=distance; total time=   0.2s\n",
            "[CV] END ..............n_neighbors=17, p=4, weights=distance; total time=   0.1s\n",
            "[CV] END ..............n_neighbors=17, p=4, weights=distance; total time=   0.1s\n",
            "[CV] END ..............n_neighbors=17, p=4, weights=distance; total time=   0.1s\n",
            "[CV] END ..............n_neighbors=17, p=4, weights=distance; total time=   0.2s\n",
            "[CV] END ..............n_neighbors=17, p=4, weights=distance; total time=   0.1s\n",
            "[CV] END ..............n_neighbors=17, p=5, weights=distance; total time=   0.1s\n",
            "[CV] END ..............n_neighbors=17, p=5, weights=distance; total time=   0.1s\n",
            "[CV] END ..............n_neighbors=17, p=5, weights=distance; total time=   0.1s\n",
            "[CV] END ..............n_neighbors=17, p=5, weights=distance; total time=   0.2s\n",
            "[CV] END ..............n_neighbors=17, p=5, weights=distance; total time=   0.2s\n",
            "[CV] END ..............n_neighbors=19, p=1, weights=distance; total time=   0.0s\n",
            "[CV] END ..............n_neighbors=19, p=1, weights=distance; total time=   0.0s\n",
            "[CV] END ..............n_neighbors=19, p=1, weights=distance; total time=   0.1s\n",
            "[CV] END ..............n_neighbors=19, p=1, weights=distance; total time=   0.0s\n",
            "[CV] END ..............n_neighbors=19, p=1, weights=distance; total time=   0.0s\n",
            "[CV] END ..............n_neighbors=19, p=2, weights=distance; total time=   0.0s\n",
            "[CV] END ..............n_neighbors=19, p=2, weights=distance; total time=   0.0s\n",
            "[CV] END ..............n_neighbors=19, p=2, weights=distance; total time=   0.0s\n",
            "[CV] END ..............n_neighbors=19, p=2, weights=distance; total time=   0.0s\n",
            "[CV] END ..............n_neighbors=19, p=2, weights=distance; total time=   0.0s\n",
            "[CV] END ..............n_neighbors=19, p=3, weights=distance; total time=   0.1s\n",
            "[CV] END ..............n_neighbors=19, p=3, weights=distance; total time=   0.1s\n",
            "[CV] END ..............n_neighbors=19, p=3, weights=distance; total time=   0.2s\n",
            "[CV] END ..............n_neighbors=19, p=3, weights=distance; total time=   0.2s\n",
            "[CV] END ..............n_neighbors=19, p=3, weights=distance; total time=   0.2s\n",
            "[CV] END ..............n_neighbors=19, p=4, weights=distance; total time=   0.1s\n",
            "[CV] END ..............n_neighbors=19, p=4, weights=distance; total time=   0.2s\n",
            "[CV] END ..............n_neighbors=19, p=4, weights=distance; total time=   0.1s\n",
            "[CV] END ..............n_neighbors=19, p=4, weights=distance; total time=   0.1s\n",
            "[CV] END ..............n_neighbors=19, p=4, weights=distance; total time=   0.2s\n",
            "[CV] END ..............n_neighbors=19, p=5, weights=distance; total time=   0.1s\n",
            "[CV] END ..............n_neighbors=19, p=5, weights=distance; total time=   0.1s\n",
            "[CV] END ..............n_neighbors=19, p=5, weights=distance; total time=   0.1s\n",
            "[CV] END ..............n_neighbors=19, p=5, weights=distance; total time=   0.1s\n",
            "[CV] END ..............n_neighbors=19, p=5, weights=distance; total time=   0.1s\n",
            "[CV] END ..............n_neighbors=21, p=1, weights=distance; total time=   0.1s\n",
            "[CV] END ..............n_neighbors=21, p=1, weights=distance; total time=   0.1s\n",
            "[CV] END ..............n_neighbors=21, p=1, weights=distance; total time=   0.1s\n",
            "[CV] END ..............n_neighbors=21, p=1, weights=distance; total time=   0.1s\n",
            "[CV] END ..............n_neighbors=21, p=1, weights=distance; total time=   0.1s\n",
            "[CV] END ..............n_neighbors=21, p=2, weights=distance; total time=   0.0s\n",
            "[CV] END ..............n_neighbors=21, p=2, weights=distance; total time=   0.0s\n",
            "[CV] END ..............n_neighbors=21, p=2, weights=distance; total time=   0.0s\n",
            "[CV] END ..............n_neighbors=21, p=2, weights=distance; total time=   0.0s\n",
            "[CV] END ..............n_neighbors=21, p=2, weights=distance; total time=   0.0s\n",
            "[CV] END ..............n_neighbors=21, p=3, weights=distance; total time=   0.3s\n",
            "[CV] END ..............n_neighbors=21, p=3, weights=distance; total time=   0.2s\n",
            "[CV] END ..............n_neighbors=21, p=3, weights=distance; total time=   0.2s\n",
            "[CV] END ..............n_neighbors=21, p=3, weights=distance; total time=   0.3s\n",
            "[CV] END ..............n_neighbors=21, p=3, weights=distance; total time=   0.3s\n",
            "[CV] END ..............n_neighbors=21, p=4, weights=distance; total time=   0.2s\n",
            "[CV] END ..............n_neighbors=21, p=4, weights=distance; total time=   0.1s\n",
            "[CV] END ..............n_neighbors=21, p=4, weights=distance; total time=   0.3s\n",
            "[CV] END ..............n_neighbors=21, p=4, weights=distance; total time=   0.2s\n",
            "[CV] END ..............n_neighbors=21, p=4, weights=distance; total time=   0.2s\n",
            "[CV] END ..............n_neighbors=21, p=5, weights=distance; total time=   0.2s\n",
            "[CV] END ..............n_neighbors=21, p=5, weights=distance; total time=   0.2s\n",
            "[CV] END ..............n_neighbors=21, p=5, weights=distance; total time=   0.2s\n",
            "[CV] END ..............n_neighbors=21, p=5, weights=distance; total time=   0.1s\n",
            "[CV] END ..............n_neighbors=21, p=5, weights=distance; total time=   0.1s\n",
            "[CV] END ..............n_neighbors=23, p=1, weights=distance; total time=   0.0s\n",
            "[CV] END ..............n_neighbors=23, p=1, weights=distance; total time=   0.0s\n",
            "[CV] END ..............n_neighbors=23, p=1, weights=distance; total time=   0.0s\n",
            "[CV] END ..............n_neighbors=23, p=1, weights=distance; total time=   0.0s\n",
            "[CV] END ..............n_neighbors=23, p=1, weights=distance; total time=   0.0s\n",
            "[CV] END ..............n_neighbors=23, p=2, weights=distance; total time=   0.0s\n",
            "[CV] END ..............n_neighbors=23, p=2, weights=distance; total time=   0.0s\n",
            "[CV] END ..............n_neighbors=23, p=2, weights=distance; total time=   0.0s\n",
            "[CV] END ..............n_neighbors=23, p=2, weights=distance; total time=   0.0s\n",
            "[CV] END ..............n_neighbors=23, p=2, weights=distance; total time=   0.0s\n",
            "[CV] END ..............n_neighbors=23, p=3, weights=distance; total time=   0.2s\n",
            "[CV] END ..............n_neighbors=23, p=3, weights=distance; total time=   0.1s\n",
            "[CV] END ..............n_neighbors=23, p=3, weights=distance; total time=   0.1s\n",
            "[CV] END ..............n_neighbors=23, p=3, weights=distance; total time=   0.1s\n",
            "[CV] END ..............n_neighbors=23, p=3, weights=distance; total time=   0.1s\n",
            "[CV] END ..............n_neighbors=23, p=4, weights=distance; total time=   0.1s\n",
            "[CV] END ..............n_neighbors=23, p=4, weights=distance; total time=   0.1s\n",
            "[CV] END ..............n_neighbors=23, p=4, weights=distance; total time=   0.1s\n",
            "[CV] END ..............n_neighbors=23, p=4, weights=distance; total time=   0.2s\n",
            "[CV] END ..............n_neighbors=23, p=4, weights=distance; total time=   0.1s\n",
            "[CV] END ..............n_neighbors=23, p=5, weights=distance; total time=   0.1s\n",
            "[CV] END ..............n_neighbors=23, p=5, weights=distance; total time=   0.1s\n",
            "[CV] END ..............n_neighbors=23, p=5, weights=distance; total time=   0.2s\n",
            "[CV] END ..............n_neighbors=23, p=5, weights=distance; total time=   0.1s\n",
            "[CV] END ..............n_neighbors=23, p=5, weights=distance; total time=   0.2s\n",
            "[CV] END ..............n_neighbors=25, p=1, weights=distance; total time=   0.1s\n",
            "[CV] END ..............n_neighbors=25, p=1, weights=distance; total time=   0.0s\n",
            "[CV] END ..............n_neighbors=25, p=1, weights=distance; total time=   0.0s\n",
            "[CV] END ..............n_neighbors=25, p=1, weights=distance; total time=   0.0s\n",
            "[CV] END ..............n_neighbors=25, p=1, weights=distance; total time=   0.0s\n",
            "[CV] END ..............n_neighbors=25, p=2, weights=distance; total time=   0.0s\n",
            "[CV] END ..............n_neighbors=25, p=2, weights=distance; total time=   0.1s\n",
            "[CV] END ..............n_neighbors=25, p=2, weights=distance; total time=   0.0s\n",
            "[CV] END ..............n_neighbors=25, p=2, weights=distance; total time=   0.0s\n",
            "[CV] END ..............n_neighbors=25, p=2, weights=distance; total time=   0.0s\n",
            "[CV] END ..............n_neighbors=25, p=3, weights=distance; total time=   0.1s\n",
            "[CV] END ..............n_neighbors=25, p=3, weights=distance; total time=   0.2s\n",
            "[CV] END ..............n_neighbors=25, p=3, weights=distance; total time=   0.1s\n",
            "[CV] END ..............n_neighbors=25, p=3, weights=distance; total time=   0.2s\n",
            "[CV] END ..............n_neighbors=25, p=3, weights=distance; total time=   0.1s\n",
            "[CV] END ..............n_neighbors=25, p=4, weights=distance; total time=   0.1s\n",
            "[CV] END ..............n_neighbors=25, p=4, weights=distance; total time=   0.1s\n",
            "[CV] END ..............n_neighbors=25, p=4, weights=distance; total time=   0.2s\n",
            "[CV] END ..............n_neighbors=25, p=4, weights=distance; total time=   0.1s\n",
            "[CV] END ..............n_neighbors=25, p=4, weights=distance; total time=   0.1s\n",
            "[CV] END ..............n_neighbors=25, p=5, weights=distance; total time=   0.1s\n",
            "[CV] END ..............n_neighbors=25, p=5, weights=distance; total time=   0.1s\n",
            "[CV] END ..............n_neighbors=25, p=5, weights=distance; total time=   0.1s\n",
            "[CV] END ..............n_neighbors=25, p=5, weights=distance; total time=   0.1s\n",
            "[CV] END ..............n_neighbors=25, p=5, weights=distance; total time=   0.1s\n",
            "[CV] END ..............n_neighbors=27, p=1, weights=distance; total time=   0.0s\n",
            "[CV] END ..............n_neighbors=27, p=1, weights=distance; total time=   0.0s\n",
            "[CV] END ..............n_neighbors=27, p=1, weights=distance; total time=   0.0s\n",
            "[CV] END ..............n_neighbors=27, p=1, weights=distance; total time=   0.0s\n",
            "[CV] END ..............n_neighbors=27, p=1, weights=distance; total time=   0.0s\n",
            "[CV] END ..............n_neighbors=27, p=2, weights=distance; total time=   0.0s\n",
            "[CV] END ..............n_neighbors=27, p=2, weights=distance; total time=   0.0s\n",
            "[CV] END ..............n_neighbors=27, p=2, weights=distance; total time=   0.0s\n",
            "[CV] END ..............n_neighbors=27, p=2, weights=distance; total time=   0.0s\n",
            "[CV] END ..............n_neighbors=27, p=2, weights=distance; total time=   0.0s\n",
            "[CV] END ..............n_neighbors=27, p=3, weights=distance; total time=   0.3s\n",
            "[CV] END ..............n_neighbors=27, p=3, weights=distance; total time=   0.3s\n",
            "[CV] END ..............n_neighbors=27, p=3, weights=distance; total time=   0.2s\n",
            "[CV] END ..............n_neighbors=27, p=3, weights=distance; total time=   0.3s\n",
            "[CV] END ..............n_neighbors=27, p=3, weights=distance; total time=   0.2s\n",
            "[CV] END ..............n_neighbors=27, p=4, weights=distance; total time=   0.1s\n",
            "[CV] END ..............n_neighbors=27, p=4, weights=distance; total time=   0.1s\n",
            "[CV] END ..............n_neighbors=27, p=4, weights=distance; total time=   0.1s\n",
            "[CV] END ..............n_neighbors=27, p=4, weights=distance; total time=   0.1s\n",
            "[CV] END ..............n_neighbors=27, p=4, weights=distance; total time=   0.2s\n",
            "[CV] END ..............n_neighbors=27, p=5, weights=distance; total time=   0.1s\n",
            "[CV] END ..............n_neighbors=27, p=5, weights=distance; total time=   0.1s\n",
            "[CV] END ..............n_neighbors=27, p=5, weights=distance; total time=   0.1s\n",
            "[CV] END ..............n_neighbors=27, p=5, weights=distance; total time=   0.1s\n",
            "[CV] END ..............n_neighbors=27, p=5, weights=distance; total time=   0.1s\n",
            "[CV] END ..............n_neighbors=29, p=1, weights=distance; total time=   0.0s\n",
            "[CV] END ..............n_neighbors=29, p=1, weights=distance; total time=   0.0s\n",
            "[CV] END ..............n_neighbors=29, p=1, weights=distance; total time=   0.0s\n",
            "[CV] END ..............n_neighbors=29, p=1, weights=distance; total time=   0.0s\n",
            "[CV] END ..............n_neighbors=29, p=1, weights=distance; total time=   0.0s\n",
            "[CV] END ..............n_neighbors=29, p=2, weights=distance; total time=   0.0s\n",
            "[CV] END ..............n_neighbors=29, p=2, weights=distance; total time=   0.0s\n",
            "[CV] END ..............n_neighbors=29, p=2, weights=distance; total time=   0.0s\n",
            "[CV] END ..............n_neighbors=29, p=2, weights=distance; total time=   0.0s\n",
            "[CV] END ..............n_neighbors=29, p=2, weights=distance; total time=   0.0s\n",
            "[CV] END ..............n_neighbors=29, p=3, weights=distance; total time=   0.1s\n",
            "[CV] END ..............n_neighbors=29, p=3, weights=distance; total time=   0.1s\n",
            "[CV] END ..............n_neighbors=29, p=3, weights=distance; total time=   0.1s\n",
            "[CV] END ..............n_neighbors=29, p=3, weights=distance; total time=   0.1s\n",
            "[CV] END ..............n_neighbors=29, p=3, weights=distance; total time=   0.1s\n",
            "[CV] END ..............n_neighbors=29, p=4, weights=distance; total time=   0.1s\n",
            "[CV] END ..............n_neighbors=29, p=4, weights=distance; total time=   0.1s\n",
            "[CV] END ..............n_neighbors=29, p=4, weights=distance; total time=   0.1s\n",
            "[CV] END ..............n_neighbors=29, p=4, weights=distance; total time=   0.2s\n",
            "[CV] END ..............n_neighbors=29, p=4, weights=distance; total time=   0.1s\n",
            "[CV] END ..............n_neighbors=29, p=5, weights=distance; total time=   0.2s\n",
            "[CV] END ..............n_neighbors=29, p=5, weights=distance; total time=   0.1s\n",
            "[CV] END ..............n_neighbors=29, p=5, weights=distance; total time=   0.2s\n",
            "[CV] END ..............n_neighbors=29, p=5, weights=distance; total time=   0.3s\n",
            "[CV] END ..............n_neighbors=29, p=5, weights=distance; total time=   0.2s\n"
          ]
        },
        {
          "output_type": "execute_result",
          "data": {
            "text/plain": [
              "GridSearchCV(estimator=KNeighborsClassifier(),\n",
              "             param_grid=[{'n_neighbors': [3, 5, 7, 9, 11, 13, 15, 17, 19, 21,\n",
              "                                          23, 25, 27, 29],\n",
              "                          'weights': ['uniform']},\n",
              "                         {'n_neighbors': [3, 5, 7, 9, 11, 13, 15, 17, 19, 21,\n",
              "                                          23, 25, 27, 29],\n",
              "                          'p': [1, 2, 3, 4, 5], 'weights': ['distance']}],\n",
              "             verbose=2)"
            ]
          },
          "metadata": {},
          "execution_count": 14
        }
      ]
    },
    {
      "cell_type": "code",
      "source": [
        "bests = grid_search.best_estimator_\n",
        "best_li = grid_search.best_params_\n",
        "print(bests)\n",
        "print(best_li)\n"
      ],
      "metadata": {
        "colab": {
          "base_uri": "https://localhost:8080/"
        },
        "id": "pfOT_S6dAi88",
        "outputId": "8ca5bc63-10aa-4054-e0f0-a95522dff81e"
      },
      "execution_count": null,
      "outputs": [
        {
          "output_type": "stream",
          "name": "stdout",
          "text": [
            "KNeighborsClassifier(n_neighbors=3, p=1, weights='distance')\n",
            "{'n_neighbors': 3, 'p': 1, 'weights': 'distance'}\n"
          ]
        }
      ]
    },
    {
      "cell_type": "code",
      "source": [
        "knn = KNeighborsClassifier(n_neighbors = 3, p = 1, weights='distance')\n",
        "knn.fit(X_train, y_train)"
      ],
      "metadata": {
        "colab": {
          "base_uri": "https://localhost:8080/"
        },
        "id": "UVTMwkPNBZsF",
        "outputId": "311e29d4-9921-4e2d-8d38-6d0d7d45e2c3"
      },
      "execution_count": null,
      "outputs": [
        {
          "output_type": "execute_result",
          "data": {
            "text/plain": [
              "KNeighborsClassifier(n_neighbors=3, p=1, weights='distance')"
            ]
          },
          "metadata": {},
          "execution_count": 16
        }
      ]
    },
    {
      "cell_type": "code",
      "source": [
        "# use  classification report to find precision_score , recall_score , accuracy_score , f1_score\n",
        "y_scores = knn.predict(X_test)\n",
        "print(\"Classification Report is:\\n\", classification_report(y_test, y_scores))\n",
        "print(\"\\n F1:\\n\", f1_score(y_test, y_scores))\n",
        "print(\"\\n Precision score is:\\n\", precision_score(y_test, y_scores))\n",
        "print(\"\\n Recall score is:\\n\", recall_score(y_test, y_scores))\n",
        "print('Model accuracy score: {0:0.4f}'.format(accuracy_score(y_test, y_scores)))"
      ],
      "metadata": {
        "colab": {
          "base_uri": "https://localhost:8080/"
        },
        "id": "C_yJivdZFRNo",
        "outputId": "0e6e949d-6a08-4c74-e3df-3eedb4f9e50b"
      },
      "execution_count": null,
      "outputs": [
        {
          "output_type": "stream",
          "name": "stdout",
          "text": [
            "Classification Report is:\n",
            "               precision    recall  f1-score   support\n",
            "\n",
            "           0       0.99      0.94      0.96       155\n",
            "           1       0.94      0.99      0.96       147\n",
            "\n",
            "    accuracy                           0.96       302\n",
            "   macro avg       0.96      0.96      0.96       302\n",
            "weighted avg       0.96      0.96      0.96       302\n",
            "\n",
            "\n",
            " F1:\n",
            " 0.9602649006622516\n",
            "\n",
            " Precision score is:\n",
            " 0.9354838709677419\n",
            "\n",
            " Recall score is:\n",
            " 0.9863945578231292\n",
            "Model accuracy score: 0.9603\n"
          ]
        }
      ]
    },
    {
      "cell_type": "code",
      "source": [
        "\n",
        "#Calculating Confusion Matrix\n",
        "CM = confusion_matrix(y_test, y_scores)\n",
        "\n",
        "# drawing confusion matrix\n",
        "ax= plt.subplot()\n",
        "sns.heatmap(CM, annot=True, fmt='g', ax = ax);\n",
        "ax.set_xlabel('Predicted labels');\n",
        "ax.set_ylabel('True labels'); \n",
        "ax.set_title('Confusion Matrix');"
      ],
      "metadata": {
        "colab": {
          "base_uri": "https://localhost:8080/",
          "height": 295
        },
        "id": "4X31wJeHGFjM",
        "outputId": "25fd96ff-581d-4f39-a3c0-d094e23cc27b"
      },
      "execution_count": null,
      "outputs": [
        {
          "output_type": "display_data",
          "data": {
            "text/plain": [
              "<Figure size 432x288 with 2 Axes>"
            ],
            "image/png": "[encoded data removed]"
          },
          "metadata": {
            "needs_background": "light"
          }
        }
      ]
    },
    {
      "cell_type": "code",
      "source": [
        "# Plot AUC for kNN\n",
        "\n",
        "y_scores = knn.predict_proba(X_test)[:,1]\n",
        "fpr, tpr, threshold = roc_curve(y_test, y_scores)\n",
        "roc_auc = auc(fpr, tpr)\n",
        "\n",
        "plt.title('Receiver Operating Characteristic')\n",
        "plt.plot(fpr, tpr, 'b', label = 'AUC = %0.2f' % roc_auc)\n",
        "plt.legend(loc = 'lower right')\n",
        "plt.plot([0, 1], [0, 1],'r--')\n",
        "plt.xlim([0, 1])\n",
        "plt.ylim([0, 1])\n",
        "plt.ylabel('True Positive Rate')\n",
        "plt.xlabel('False Positive Rate')\n",
        "plt.title('ROC Curve of kNN')\n",
        "plt.show()"
      ],
      "metadata": {
        "colab": {
          "base_uri": "https://localhost:8080/",
          "height": 295
        },
        "id": "-ZK1ygYdGFfH",
        "outputId": "82708239-3bdf-44a3-ac43-b7719b386a23"
      },
      "execution_count": null,
      "outputs": [
        {
          "output_type": "display_data",
          "data": {
            "text/plain": [
              "<Figure size 432x288 with 1 Axes>"
            ],
            "image/png": "[encoded data removed]"
          },
          "metadata": {
            "needs_background": "light"
          }
        }
      ]
    },
    {
      "cell_type": "markdown",
      "source": [
        "# Logistic Regression"
      ],
      "metadata": {
        "id": "MKN2ZwI_JjzC"
      }
    },
    {
      "cell_type": "code",
      "source": [
        "logistic = linear_model.LogisticRegression()"
      ],
      "metadata": {
        "id": "_YRXVvE8JpOJ"
      },
      "execution_count": null,
      "outputs": []
    },
    {
      "cell_type": "code",
      "source": [
        "penalty = ['l1', 'l2']\n",
        "solver=['newton-cg',  'liblinear' ,'lbfgs']\n",
        "C = [0.001,.009,0.01,.09,1,5,10, ]\n",
        "\n",
        "hyperparameters = dict(C=C, penalty=penalty , solver = solver)"
      ],
      "metadata": {
        "id": "weRo0Bq4Jp77"
      },
      "execution_count": null,
      "outputs": []
    },
    {
      "cell_type": "code",
      "source": [
        "grid_search = GridSearchCV(logistic, hyperparameters, cv=5, verbose=0)"
      ],
      "metadata": {
        "id": "WY9lvL1_Jp1H"
      },
      "execution_count": null,
      "outputs": []
    },
    {
      "cell_type": "code",
      "source": [
        "grid_search.fit(X_train,y_train)"
      ],
      "metadata": {
        "colab": {
          "base_uri": "https://localhost:8080/"
        },
        "id": "gzgxUHNUJp0U",
        "outputId": "a7e1d3ae-a7b6-495c-8ad1-3c71cd22bcc2"
      },
      "execution_count": null,
      "outputs": [
        {
          "output_type": "stream",
          "name": "stderr",
          "text": [
            "/usr/local/lib/python3.8/dist-packages/sklearn/model_selection/_validation.py:372: FitFailedWarning: \n",
            "70 fits failed out of a total of 210.\n",
            "The score on these train-test partitions for these parameters will be set to nan.\n",
            "If these failures are not expected, you can try to debug them by setting error_score='raise'.\n",
            "\n",
            "Below are more details about the failures:\n",
            "--------------------------------------------------------------------------------\n",
            "35 fits failed with the following error:\n",
            "Traceback (most recent call last):\n",
            "  File \"/usr/local/lib/python3.8/dist-packages/sklearn/model_selection/_validation.py\", line 680, in _fit_and_score\n",
            "    estimator.fit(X_train, y_train, **fit_params)\n",
            "  File \"/usr/local/lib/python3.8/dist-packages/sklearn/linear_model/_logistic.py\", line 1461, in fit\n",
            "    solver = _check_solver(self.solver, self.penalty, self.dual)\n",
            "  File \"/usr/local/lib/python3.8/dist-packages/sklearn/linear_model/_logistic.py\", line 447, in _check_solver\n",
            "    raise ValueError(\n",
            "ValueError: Solver newton-cg supports only 'l2' or 'none' penalties, got l1 penalty.\n",
            "\n",
            "--------------------------------------------------------------------------------\n",
            "35 fits failed with the following error:\n",
            "Traceback (most recent call last):\n",
            "  File \"/usr/local/lib/python3.8/dist-packages/sklearn/model_selection/_validation.py\", line 680, in _fit_and_score\n",
            "    estimator.fit(X_train, y_train, **fit_params)\n",
            "  File \"/usr/local/lib/python3.8/dist-packages/sklearn/linear_model/_logistic.py\", line 1461, in fit\n",
            "    solver = _check_solver(self.solver, self.penalty, self.dual)\n",
            "  File \"/usr/local/lib/python3.8/dist-packages/sklearn/linear_model/_logistic.py\", line 447, in _check_solver\n",
            "    raise ValueError(\n",
            "ValueError: Solver lbfgs supports only 'l2' or 'none' penalties, got l1 penalty.\n",
            "\n",
            "  warnings.warn(some_fits_failed_message, FitFailedWarning)\n",
            "/usr/local/lib/python3.8/dist-packages/sklearn/model_selection/_search.py:969: UserWarning: One or more of the test scores are non-finite: [       nan 0.49669079        nan 0.8518535  0.85018689 0.8518535\n",
            "        nan 0.88908131        nan 0.87999726 0.87668461 0.87999726\n",
            "        nan 0.88908131        nan 0.8808237  0.87916738 0.8808237\n",
            "        nan 0.90067556        nan 0.89903295 0.89820651 0.89903295\n",
            "        nan 0.89903638        nan 0.89738006 0.89738006 0.89738006\n",
            "        nan 0.89820994        nan 0.89738349 0.89738349 0.89738349\n",
            "        nan 0.89820994        nan 0.89738349 0.89738349 0.89738349]\n",
            "  warnings.warn(\n"
          ]
        },
        {
          "output_type": "execute_result",
          "data": {
            "text/plain": [
              "GridSearchCV(cv=5, estimator=LogisticRegression(),\n",
              "             param_grid={'C': [0.001, 0.009, 0.01, 0.09, 1, 5, 10],\n",
              "                         'penalty': ['l1', 'l2'],\n",
              "                         'solver': ['newton-cg', 'liblinear', 'lbfgs']})"
            ]
          },
          "metadata": {},
          "execution_count": 57
        }
      ]
    },
    {
      "cell_type": "code",
      "source": [
        "bests = grid_search.best_estimator_\n",
        "best_li = grid_search.best_params_\n",
        "print(bests)\n",
        "print(best_li)\n"
      ],
      "metadata": {
        "colab": {
          "base_uri": "https://localhost:8080/"
        },
        "id": "yeSUHyPCJpra",
        "outputId": "f2b5096d-3e5c-469d-fe4c-3faf5b4412a2"
      },
      "execution_count": null,
      "outputs": [
        {
          "output_type": "stream",
          "name": "stdout",
          "text": [
            "LogisticRegression(C=0.09, penalty='l1', solver='liblinear')\n",
            "{'C': 0.09, 'penalty': 'l1', 'solver': 'liblinear'}\n"
          ]
        }
      ]
    },
    {
      "cell_type": "code",
      "source": [
        "#pip install -U scikit-learn"
      ],
      "metadata": {
        "id": "8O6tImG-L2ki"
      },
      "execution_count": null,
      "outputs": []
    },
    {
      "cell_type": "code",
      "source": [
        "\n",
        "logistic = linear_model.LogisticRegression(penalty = 'l1', solver = 'liblinear', C = 0.09, random_state=3, max_iter = 500)\n",
        "logistic.fit(X_train, y_train )"
      ],
      "metadata": {
        "colab": {
          "base_uri": "https://localhost:8080/"
        },
        "id": "YbIfHqGdKcRC",
        "outputId": "cb0dace5-76e6-4c57-d14e-8ff9432dc427"
      },
      "execution_count": null,
      "outputs": [
        {
          "output_type": "execute_result",
          "data": {
            "text/plain": [
              "LogisticRegression(C=0.09, max_iter=500, penalty='l1', random_state=3,\n",
              "                   solver='liblinear')"
            ]
          },
          "metadata": {},
          "execution_count": 60
        }
      ]
    },
    {
      "cell_type": "code",
      "source": [
        "# use  classification report to find precision_score , recall_score , accuracy_score , f1_score\n",
        "y_scores = logistic.predict(X_test)\n",
        "print(\"Classification Report is:\\n\", classification_report(y_test, y_scores))\n",
        "print(\"\\n F1:\\n\", f1_score(y_test, y_scores))\n",
        "print(\"\\n Precision score is:\\n\", precision_score(y_test, y_scores))\n",
        "print(\"\\n Recall score is:\\n\", recall_score(y_test, y_scores))\n",
        "print('Model accuracy score: {0:0.4f}'.format(accuracy_score(y_test, y_scores)))"
      ],
      "metadata": {
        "colab": {
          "base_uri": "https://localhost:8080/"
        },
        "id": "iGd7Lv_lKTub",
        "outputId": "c6c181b0-fb53-4869-de90-c403eb06a0a3"
      },
      "execution_count": null,
      "outputs": [
        {
          "output_type": "stream",
          "name": "stdout",
          "text": [
            "Classification Report is:\n",
            "               precision    recall  f1-score   support\n",
            "\n",
            "           0       0.95      0.90      0.92       155\n",
            "           1       0.90      0.95      0.92       147\n",
            "\n",
            "    accuracy                           0.92       302\n",
            "   macro avg       0.92      0.92      0.92       302\n",
            "weighted avg       0.92      0.92      0.92       302\n",
            "\n",
            "\n",
            " F1:\n",
            " 0.9205298013245032\n",
            "\n",
            " Precision score is:\n",
            " 0.896774193548387\n",
            "\n",
            " Recall score is:\n",
            " 0.9455782312925171\n",
            "Model accuracy score: 0.9205\n"
          ]
        }
      ]
    },
    {
      "cell_type": "code",
      "source": [
        "#Calculating Confusion Matrix\n",
        "CM = confusion_matrix(y_test, y_scores)\n",
        "\n",
        "# drawing confusion matrix\n",
        "ax= plt.subplot()\n",
        "sns.heatmap(CM, annot=True, fmt='g', ax = ax);\n",
        "ax.set_xlabel('Predicted labels');\n",
        "ax.set_ylabel('True labels'); \n",
        "ax.set_title('Confusion Matrix');"
      ],
      "metadata": {
        "colab": {
          "base_uri": "https://localhost:8080/",
          "height": 295
        },
        "id": "nbHLx77xOHD7",
        "outputId": "d0110e19-1416-4a66-d4e6-d227e2a7cf19"
      },
      "execution_count": null,
      "outputs": [
        {
          "output_type": "display_data",
          "data": {
            "text/plain": [
              "<Figure size 432x288 with 2 Axes>"
            ],
            "image/png": "[encoded data removed]"
          },
          "metadata": {
            "needs_background": "light"
          }
        }
      ]
    },
    {
      "cell_type": "code",
      "source": [
        "# Plot AUC for Logistic Regression\n",
        "\n",
        "y_scores= logistic.predict_proba(X_test)[:,1]\n",
        "fpr, tpr, threshold = roc_curve(y_test,y_scores )\n",
        "roc_auc = auc(fpr, tpr)\n",
        "\n",
        "plt.title('Receiver Operating Characteristic')\n",
        "plt.plot(fpr, tpr, 'b', label = 'AUC = %0.2f' % roc_auc)\n",
        "plt.legend(loc = 'lower right')\n",
        "plt.plot([0, 1], [0, 1],'r--')\n",
        "plt.xlim([0, 1])\n",
        "plt.ylim([0, 1])\n",
        "plt.ylabel('True Positive Rate')\n",
        "plt.xlabel('False Positive Rate')\n",
        "plt.title('ROC Curve of Logistic Regression')\n",
        "plt.show()"
      ],
      "metadata": {
        "colab": {
          "base_uri": "https://localhost:8080/",
          "height": 295
        },
        "id": "3IGYh1UjOG39",
        "outputId": "e704787a-195f-4bdb-99e5-3986b5ad682d"
      },
      "execution_count": null,
      "outputs": [
        {
          "output_type": "display_data",
          "data": {
            "text/plain": [
              "<Figure size 432x288 with 1 Axes>"
            ],
            "image/png": "[encoded data removed]"
          },
          "metadata": {
            "needs_background": "light"
          }
        }
      ]
    },
    {
      "cell_type": "markdown",
      "source": [
        "# Naïve Bayes "
      ],
      "metadata": {
        "id": "D20fsCoLPIAA"
      }
    },
    {
      "cell_type": "code",
      "source": [
        "naive_bayes = GaussianNB()"
      ],
      "metadata": {
        "id": "LEcTR2eOPHUX"
      },
      "execution_count": null,
      "outputs": []
    },
    {
      "cell_type": "code",
      "source": [
        "\n",
        "var_smoothing   = [int(x) for x in np.logspace(0,-9, num=100)] \n",
        "param_grid_nb = {'var_smoothing':var_smoothing}\n",
        "\n",
        "grid_search = GridSearchCV(estimator=naive_bayes, param_grid=param_grid_nb, verbose=1, cv=10, n_jobs=-1 ,  scoring    = 'accuracy')\n",
        "best_model_ = grid_search.fit(X_train, y_train)\n"
      ],
      "metadata": {
        "colab": {
          "base_uri": "https://localhost:8080/"
        },
        "id": "ZuqyVCCtPGfL",
        "outputId": "c7fa61ba-0bdc-4a58-d316-9489b111b3d0"
      },
      "execution_count": null,
      "outputs": [
        {
          "output_type": "stream",
          "name": "stdout",
          "text": [
            "Fitting 10 folds for each of 100 candidates, totalling 1000 fits\n"
          ]
        }
      ]
    },
    {
      "cell_type": "code",
      "source": [
        "\n",
        "bests = grid_search.best_estimator_\n",
        "best_li = grid_search.best_params_\n",
        "print(bests)\n",
        "print(best_li)\n"
      ],
      "metadata": {
        "colab": {
          "base_uri": "https://localhost:8080/"
        },
        "id": "H4iayTosSFM8",
        "outputId": "08236581-dfb0-4c99-c2e4-d2118ca3a328"
      },
      "execution_count": null,
      "outputs": [
        {
          "output_type": "stream",
          "name": "stdout",
          "text": [
            "GaussianNB(var_smoothing=1)\n",
            "{'var_smoothing': 1}\n"
          ]
        }
      ]
    },
    {
      "cell_type": "code",
      "source": [
        "naive_bayes = GaussianNB(var_smoothing=1)\n",
        "naive_bayes.fit(X_train, y_train)"
      ],
      "metadata": {
        "colab": {
          "base_uri": "https://localhost:8080/"
        },
        "id": "pkSiSOPBTVKg",
        "outputId": "034bbe88-fcd4-4460-84cb-9bc4b4c51365"
      },
      "execution_count": null,
      "outputs": [
        {
          "output_type": "execute_result",
          "data": {
            "text/plain": [
              "GaussianNB(var_smoothing=1)"
            ]
          },
          "metadata": {},
          "execution_count": 35
        }
      ]
    },
    {
      "cell_type": "code",
      "source": [
        "# use  classification report to find precision_score , recall_score , accuracy_score , f1_score\n",
        "y_scores = naive_bayes.predict(X_test)\n",
        "print(\"Classification Report is:\\n\", classification_report(y_test, y_scores))\n",
        "print(\"\\n F1:\\n\", f1_score(y_test, y_scores))\n",
        "print(\"\\n Precision score is:\\n\", precision_score(y_test, y_scores))\n",
        "print(\"\\n Recall score is:\\n\", recall_score(y_test, y_scores))\n",
        "print('Model accuracy score: {0:0.4f}'.format(accuracy_score(y_test, y_scores)))"
      ],
      "metadata": {
        "colab": {
          "base_uri": "https://localhost:8080/"
        },
        "id": "U1ed-YAhSjRa",
        "outputId": "eb98f0bb-5086-4475-d368-bf0478cc3552"
      },
      "execution_count": null,
      "outputs": [
        {
          "output_type": "stream",
          "name": "stdout",
          "text": [
            "Classification Report is:\n",
            "               precision    recall  f1-score   support\n",
            "\n",
            "           0       0.96      0.61      0.74       155\n",
            "           1       0.70      0.97      0.81       147\n",
            "\n",
            "    accuracy                           0.78       302\n",
            "   macro avg       0.83      0.79      0.78       302\n",
            "weighted avg       0.83      0.78      0.78       302\n",
            "\n",
            "\n",
            " F1:\n",
            " 0.8148148148148148\n",
            "\n",
            " Precision score is:\n",
            " 0.7009803921568627\n",
            "\n",
            " Recall score is:\n",
            " 0.9727891156462585\n",
            "Model accuracy score: 0.7848\n"
          ]
        }
      ]
    },
    {
      "cell_type": "code",
      "source": [
        "\n",
        "#Calculating Confusion Matrix\n",
        "CM = confusion_matrix(y_test, y_scores)\n",
        "\n",
        "# drawing confusion matrix\n",
        "ax= plt.subplot()\n",
        "sns.heatmap(CM, annot=True, fmt='g', ax = ax)\n",
        "ax.set_xlabel('Predicted labels')\n",
        "ax.set_ylabel('True labels') \n",
        "ax.set_title('Confusion Matrix')"
      ],
      "metadata": {
        "colab": {
          "base_uri": "https://localhost:8080/",
          "height": 312
        },
        "id": "rNCQD-79SmbJ",
        "outputId": "2e2b0f21-cf7e-4353-dc77-33f1662e88e0"
      },
      "execution_count": null,
      "outputs": [
        {
          "output_type": "execute_result",
          "data": {
            "text/plain": [
              "Text(0.5, 1.0, 'Confusion Matrix')"
            ]
          },
          "metadata": {},
          "execution_count": 37
        },
        {
          "output_type": "display_data",
          "data": {
            "text/plain": [
              "<Figure size 432x288 with 2 Axes>"
            ],
            "image/png": "[encoded data removed]"
          },
          "metadata": {
            "needs_background": "light"
          }
        }
      ]
    },
    {
      "cell_type": "code",
      "source": [
        "# plot AUC for naive Bayes \n",
        "y_scores = naive_bayes.predict_proba(X_test)[:,1]\n",
        "\n",
        "fpr, tpr, threshold = roc_curve(y_test, y_scores)\n",
        "roc_auc = auc(fpr, tpr)\n",
        "\n",
        "plt.title('Receiver Operating Characteristic')\n",
        "plt.plot(fpr, tpr, 'b', label = 'AUC = %0.2f' % roc_auc)\n",
        "plt.legend(loc = 'lower right')\n",
        "plt.plot([0, 1], [0, 1],'r--')\n",
        "plt.xlim([0, 1])\n",
        "plt.ylim([0, 1])\n",
        "plt.ylabel('True Positive Rate')\n",
        "plt.xlabel('False Positive Rate')\n",
        "plt.title('ROC Curve of Naïve Bayes')\n",
        "plt.show()\n"
      ],
      "metadata": {
        "colab": {
          "base_uri": "https://localhost:8080/",
          "height": 295
        },
        "id": "a4RuVX2uSpMh",
        "outputId": "2304c15a-a1af-461e-e392-6e800e5e42f7"
      },
      "execution_count": null,
      "outputs": [
        {
          "output_type": "display_data",
          "data": {
            "text/plain": [
              "<Figure size 432x288 with 1 Axes>"
            ],
            "image/png": "[encoded data removed]"
          },
          "metadata": {
            "needs_background": "light"
          }
        }
      ]
    },
    {
      "cell_type": "code",
      "source": [],
      "metadata": {
        "id": "BCt9CNkSS8Ju"
      },
      "execution_count": null,
      "outputs": []
    },
    {
      "cell_type": "markdown",
      "source": [
        "# Decision Trees"
      ],
      "metadata": {
        "id": "FW7mA16kjCLM"
      }
    },
    {
      "cell_type": "code",
      "source": [
        "dt = DecisionTreeClassifier(random_state=3)"
      ],
      "metadata": {
        "id": "IORISk9Bnxe1"
      },
      "execution_count": null,
      "outputs": []
    },
    {
      "cell_type": "code",
      "source": [
        "params = {\n",
        "    'max_depth': [5, 10, 20, 25],\n",
        "    'min_samples_leaf': [10, 20, 50, 100, 120],\n",
        "    'criterion': [\"gini\", \"entropy\"]\n",
        "}\n",
        "grid_search = GridSearchCV(estimator=dt,\n",
        "                           param_grid=params,\n",
        "                           cv=4, n_jobs=-1, verbose=1, scoring=\"f1\")\n",
        "best_model = grid_search.fit(X_train, y_train)"
      ],
      "metadata": {
        "colab": {
          "base_uri": "https://localhost:8080/"
        },
        "id": "t8DLj7RfnxeE",
        "outputId": "8168dc86-6c94-4bde-b429-58b03419c16d"
      },
      "execution_count": null,
      "outputs": [
        {
          "output_type": "stream",
          "name": "stdout",
          "text": [
            "Fitting 4 folds for each of 40 candidates, totalling 160 fits\n"
          ]
        }
      ]
    },
    {
      "cell_type": "code",
      "source": [
        "bests = grid_search.best_estimator_\n",
        "best_li = grid_search.best_params_\n",
        "print(bests)\n",
        "print(best_li)"
      ],
      "metadata": {
        "colab": {
          "base_uri": "https://localhost:8080/"
        },
        "id": "4x6v0k_NnxYT",
        "outputId": "15a15649-199a-477f-c4b2-bcebf3a0d63d"
      },
      "execution_count": null,
      "outputs": [
        {
          "output_type": "stream",
          "name": "stdout",
          "text": [
            "DecisionTreeClassifier(max_depth=10, min_samples_leaf=10, random_state=3)\n",
            "{'criterion': 'gini', 'max_depth': 10, 'min_samples_leaf': 10}\n"
          ]
        }
      ]
    },
    {
      "cell_type": "code",
      "source": [
        "dt = DecisionTreeClassifier(max_depth=5 , min_samples_leaf=10, random_state =2  , criterion= 'gini')\n",
        "dt.fit(X_train, y_train)"
      ],
      "metadata": {
        "colab": {
          "base_uri": "https://localhost:8080/"
        },
        "id": "6Pj6FKSpoMm5",
        "outputId": "22be769a-f883-4e0f-840b-32e9332c0980"
      },
      "execution_count": null,
      "outputs": [
        {
          "output_type": "execute_result",
          "data": {
            "text/plain": [
              "DecisionTreeClassifier(max_depth=5, min_samples_leaf=10, random_state=2)"
            ]
          },
          "metadata": {},
          "execution_count": 42
        }
      ]
    },
    {
      "cell_type": "code",
      "source": [
        "# use  classification report to find precision_score , recall_score , accuracy_score , f1_score\n",
        "y_scores = dt.predict(X_test)\n",
        "print(\"Classification Report is:\\n\", classification_report(y_test, y_scores))\n",
        "print(\"\\n F1:\\n\", f1_score(y_test, y_scores))\n",
        "print(\"\\n Precision score is:\\n\", precision_score(y_test, y_scores))\n",
        "print(\"\\n Recall score is:\\n\", recall_score(y_test, y_scores))\n",
        "print('Model accuracy score: {0:0.4f}'.format(accuracy_score(y_test, y_scores)))"
      ],
      "metadata": {
        "colab": {
          "base_uri": "https://localhost:8080/"
        },
        "id": "l1TD0dM9pIQg",
        "outputId": "6c6dbe7f-430f-4eb3-beaa-959ac5a1fa78"
      },
      "execution_count": null,
      "outputs": [
        {
          "output_type": "stream",
          "name": "stdout",
          "text": [
            "Classification Report is:\n",
            "               precision    recall  f1-score   support\n",
            "\n",
            "           0       0.97      0.95      0.96       155\n",
            "           1       0.95      0.97      0.96       147\n",
            "\n",
            "    accuracy                           0.96       302\n",
            "   macro avg       0.96      0.96      0.96       302\n",
            "weighted avg       0.96      0.96      0.96       302\n",
            "\n",
            "\n",
            " F1:\n",
            " 0.959731543624161\n",
            "\n",
            " Precision score is:\n",
            " 0.9470198675496688\n",
            "\n",
            " Recall score is:\n",
            " 0.9727891156462585\n",
            "Model accuracy score: 0.9603\n"
          ]
        }
      ]
    },
    {
      "cell_type": "code",
      "source": [
        "#Calculating Confusion Matrix\n",
        "CM = confusion_matrix(y_test, y_scores)\n",
        "\n",
        "# drawing confusion matrix\n",
        "ax= plt.subplot()\n",
        "sns.heatmap(CM, annot=True, fmt='g', ax = ax)\n",
        "ax.set_xlabel('Predicted labels')\n",
        "ax.set_ylabel('True labels') \n",
        "ax.set_title('Confusion Matrix')"
      ],
      "metadata": {
        "colab": {
          "base_uri": "https://localhost:8080/",
          "height": 312
        },
        "id": "nHWIwL4Aqe4o",
        "outputId": "8f2830c1-10ed-4688-a1e8-5f87bb3832f6"
      },
      "execution_count": null,
      "outputs": [
        {
          "output_type": "execute_result",
          "data": {
            "text/plain": [
              "Text(0.5, 1.0, 'Confusion Matrix')"
            ]
          },
          "metadata": {},
          "execution_count": 44
        },
        {
          "output_type": "display_data",
          "data": {
            "text/plain": [
              "<Figure size 432x288 with 2 Axes>"
            ],
            "image/png": "[encoded data removed]"
          },
          "metadata": {
            "needs_background": "light"
          }
        }
      ]
    },
    {
      "cell_type": "code",
      "source": [
        "# plot AUC for Decision Tree\n",
        "y_scores = dt.predict_proba(X_test)[:,1]\n",
        "fpr, tpr, threshold = roc_curve(y_test, y_scores)\n",
        "roc_auc = auc(fpr, tpr)\n",
        "\n",
        "plt.title('Receiver Operating Characteristic')\n",
        "plt.plot(fpr, tpr, 'b', label = 'AUC = %0.2f' % roc_auc)\n",
        "plt.legend(loc = 'lower right')\n",
        "plt.plot([0, 1], [0, 1],'r--')\n",
        "plt.xlim([0, 1])\n",
        "plt.ylim([0, 1])\n",
        "plt.ylabel('True Positive Rate')\n",
        "plt.xlabel('False Positive Rate')\n",
        "plt.title('ROC Curve of Decision Trees')\n",
        "plt.show()"
      ],
      "metadata": {
        "colab": {
          "base_uri": "https://localhost:8080/",
          "height": 295
        },
        "id": "Rb1SGnjDqquC",
        "outputId": "577e2dd3-c52c-4c22-ac21-f63594319efb"
      },
      "execution_count": null,
      "outputs": [
        {
          "output_type": "display_data",
          "data": {
            "text/plain": [
              "<Figure size 432x288 with 1 Axes>"
            ],
            "image/png": "[encoded data removed]"
          },
          "metadata": {
            "needs_background": "light"
          }
        }
      ]
    },
    {
      "cell_type": "markdown",
      "source": [
        "# Support Vector Machines \n"
      ],
      "metadata": {
        "id": "_tE-6s9-r_OI"
      }
    },
    {
      "cell_type": "code",
      "source": [
        "scv = SVC(random_state=3)"
      ],
      "metadata": {
        "id": "2sWPeMOUsEeD"
      },
      "execution_count": null,
      "outputs": []
    },
    {
      "cell_type": "code",
      "source": [
        "get_grid_para = {'C': [0.1, 1, 10, 100], \n",
        "                  'kernel': ['linear', 'rbf'],\n",
        "                 'gamma': [1, 0.1, 0.01, 0.001, 0.0001],\n",
        "                 'probability':[True,False],\n",
        "                 }"
      ],
      "metadata": {
        "id": "6-yisL-ss4vo"
      },
      "execution_count": null,
      "outputs": []
    },
    {
      "cell_type": "code",
      "source": [
        "grid_search = GridSearchCV(estimator=scv,\n",
        "                           param_grid=get_grid_para,\n",
        "                           cv=4, n_jobs=-1, verbose=1, scoring=\"f1\")\n",
        "best_model = grid_search.fit(X_train, y_train)"
      ],
      "metadata": {
        "colab": {
          "base_uri": "https://localhost:8080/"
        },
        "id": "up2rp6vWs4rp",
        "outputId": "c098eda2-e236-4426-acd4-405dc75941c5"
      },
      "execution_count": null,
      "outputs": [
        {
          "output_type": "stream",
          "name": "stdout",
          "text": [
            "Fitting 4 folds for each of 80 candidates, totalling 320 fits\n"
          ]
        }
      ]
    },
    {
      "cell_type": "code",
      "source": [
        "bests = grid_search.best_estimator_\n",
        "best_li = grid_search.best_params_\n",
        "print(bests)\n",
        "print(best_li)"
      ],
      "metadata": {
        "colab": {
          "base_uri": "https://localhost:8080/"
        },
        "id": "fd_m8mPUuGZB",
        "outputId": "101f0daa-b018-409e-cc95-600a39779350"
      },
      "execution_count": null,
      "outputs": [
        {
          "output_type": "stream",
          "name": "stdout",
          "text": [
            "SVC(C=100, gamma=0.1, probability=True, random_state=3)\n",
            "{'C': 100, 'gamma': 0.1, 'kernel': 'rbf', 'probability': True}\n"
          ]
        }
      ]
    },
    {
      "cell_type": "code",
      "source": [
        "scv = SVC(C=100 , gamma = 0.1 ,probability= True , random_state=3 , kernel= 'rbf')\n",
        "scv.fit(X_train, y_train)"
      ],
      "metadata": {
        "colab": {
          "base_uri": "https://localhost:8080/"
        },
        "id": "FuY2SN_jt-s6",
        "outputId": "e3710cb4-61a1-4d66-a534-a45b2aa3463a"
      },
      "execution_count": null,
      "outputs": [
        {
          "output_type": "execute_result",
          "data": {
            "text/plain": [
              "SVC(C=100, gamma=0.1, probability=True, random_state=3)"
            ]
          },
          "metadata": {},
          "execution_count": 50
        }
      ]
    },
    {
      "cell_type": "code",
      "source": [
        "# use  classification report to find precision_score , recall_score , accuracy_score , f1_score\n",
        "y_scores = scv.predict(X_test)\n",
        "print(\"Classification Report is:\\n\", classification_report(y_test, y_scores))\n",
        "print(\"\\n F1:\\n\", f1_score(y_test, y_scores))\n",
        "print(\"\\n Precision score is:\\n\", precision_score(y_test, y_scores))\n",
        "print(\"\\n Recall score is:\\n\", recall_score(y_test, y_scores))\n",
        "print('Model accuracy score: {0:0.4f}'.format(accuracy_score(y_test, y_scores)))"
      ],
      "metadata": {
        "colab": {
          "base_uri": "https://localhost:8080/"
        },
        "id": "lr5u10Qyt-lJ",
        "outputId": "8d831e04-b6d5-48eb-c605-03491537a527"
      },
      "execution_count": null,
      "outputs": [
        {
          "output_type": "stream",
          "name": "stdout",
          "text": [
            "Classification Report is:\n",
            "               precision    recall  f1-score   support\n",
            "\n",
            "           0       0.99      0.99      0.99       155\n",
            "           1       0.99      0.99      0.99       147\n",
            "\n",
            "    accuracy                           0.99       302\n",
            "   macro avg       0.99      0.99      0.99       302\n",
            "weighted avg       0.99      0.99      0.99       302\n",
            "\n",
            "\n",
            " F1:\n",
            " 0.9898305084745763\n",
            "\n",
            " Precision score is:\n",
            " 0.9864864864864865\n",
            "\n",
            " Recall score is:\n",
            " 0.9931972789115646\n",
            "Model accuracy score: 0.9901\n"
          ]
        }
      ]
    },
    {
      "cell_type": "code",
      "source": [
        "#Calculating Confusion Matrix\n",
        "CM = confusion_matrix(y_test, y_scores)\n",
        "\n",
        "# drawing confusion matrix\n",
        "ax= plt.subplot()\n",
        "sns.heatmap(CM, annot=True, fmt='g', ax = ax)\n",
        "ax.set_xlabel('Predicted labels')\n",
        "ax.set_ylabel('True labels') \n",
        "ax.set_title('Confusion Matrix')"
      ],
      "metadata": {
        "colab": {
          "base_uri": "https://localhost:8080/",
          "height": 312
        },
        "id": "O7-qXxkou69f",
        "outputId": "d43c414f-722b-402a-fe09-e97950a89e2a"
      },
      "execution_count": null,
      "outputs": [
        {
          "output_type": "execute_result",
          "data": {
            "text/plain": [
              "Text(0.5, 1.0, 'Confusion Matrix')"
            ]
          },
          "metadata": {},
          "execution_count": 52
        },
        {
          "output_type": "display_data",
          "data": {
            "text/plain": [
              "<Figure size 432x288 with 2 Axes>"
            ],
            "image/png": "[encoded data removed]"
          },
          "metadata": {
            "needs_background": "light"
          }
        }
      ]
    },
    {
      "cell_type": "code",
      "source": [
        "# plot AUCC for SVC\n",
        "y_scores = scv.predict_proba(X_test)[:,1]\n",
        "fpr, tpr, threshold = roc_curve(y_test, y_scores)\n",
        "roc_auc = auc(fpr, tpr)\n",
        "\n",
        "plt.title('Receiver Operating Characteristic')\n",
        "plt.plot(fpr, tpr, 'b', label = 'AUC = %0.2f' % roc_auc)\n",
        "plt.legend(loc = 'lower right')\n",
        "plt.plot([0, 1], [0, 1],'r--')\n",
        "plt.xlim([0, 1])\n",
        "plt.ylim([0, 1])\n",
        "plt.ylabel('True Positive Rate')\n",
        "plt.xlabel('False Positive Rate')\n",
        "plt.title('ROC Curve of Support Vector Machines ')\n",
        "plt.show()"
      ],
      "metadata": {
        "colab": {
          "base_uri": "https://localhost:8080/",
          "height": 295
        },
        "id": "0a_TIIwmu-Lv",
        "outputId": "5025ae6a-1b0b-456d-f373-a0d0beaf1763"
      },
      "execution_count": null,
      "outputs": [
        {
          "output_type": "display_data",
          "data": {
            "text/plain": [
              "<Figure size 432x288 with 1 Axes>"
            ],
            "image/png": "[encoded data removed]"
          },
          "metadata": {
            "needs_background": "light"
          }
        }
      ]
    },
    {
      "cell_type": "code",
      "source": [],
      "metadata": {
        "id": "Ptx3r4pIvGGL"
      },
      "execution_count": null,
      "outputs": []
    }
  ]
}